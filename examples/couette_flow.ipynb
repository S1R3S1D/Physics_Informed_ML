{
 "cells": [
  {
   "cell_type": "code",
   "execution_count": 4,
   "metadata": {},
   "outputs": [],
   "source": [
    "import matplotlib.pyplot as plt\n",
    "import numpy as np\n",
    "import torch\n",
    "from tqdm import tqdm\n",
    "from torch import nn"
   ]
  },
  {
   "cell_type": "markdown",
   "metadata": {},
   "source": [
    "### Setting up the geometry"
   ]
  },
  {
   "cell_type": "code",
   "execution_count": 3,
   "metadata": {},
   "outputs": [
    {
     "data": {
      "image/png": "[encoded data removed]",
      "text/plain": [
       "<Figure size 640x480 with 1 Axes>"
      ]
     },
     "metadata": {},
     "output_type": "display_data"
    }
   ],
   "source": [
    "#Cloud Generator\n",
    "\n",
    "domain_X = [-.5, .5]\n",
    "domain_Y = [0, 1]\n",
    "\n",
    "rng = np.random.default_rng(123)\n",
    "\n",
    "def cloud(size=128):\n",
    "  \n",
    "  #interior\n",
    "  X = rng.uniform(domain_X[0], domain_X[1], size)\n",
    "  Y = rng.uniform(domain_Y[0], domain_Y[1], size)\n",
    "\n",
    "  return (X, Y)\n",
    "\n",
    "#Random Plotting in Domain\n",
    "x, y = cloud(128)\n",
    "plt.scatter(x, np.zeros_like(x), color='orange')\n",
    "plt.scatter(x, np.ones_like(x), color='red')\n",
    "plt.scatter(x, y)\n",
    "plt.show()"
   ]
  },
  {
   "cell_type": "code",
   "execution_count": 5,
   "metadata": {},
   "outputs": [],
   "source": [
    "class NSFnet_VP(nn.Module):\n",
    "  def __init__(self):\n",
    "    super().__init__()\n",
    "\n",
    "    self.FC1 = nn.Linear(2, 64)\n",
    "    self.AC1 = nn.Tanh()\n",
    "\n",
    "    self.FC2 = nn.Linear(64, 128)\n",
    "    self.AC2 = nn.Tanh()\n",
    "\n",
    "    self.FC3 = nn.Linear(128, 2)\n",
    "\n",
    "  def forward(self, x):\n",
    "    out = self.AC1(self.FC1(x))\n",
    "    out = self.AC2(self.FC2(out))\n",
    "    out = self.FC3(out)\n",
    "    return out"
   ]
  },
  {
   "cell_type": "code",
   "execution_count": 8,
   "metadata": {},
   "outputs": [],
   "source": [
    "model = NSFnet_VP()\n",
    "lr=0.01\n",
    "optimizer = torch.optim.Adam(model.parameters(), lr)\n",
    "epochs = 1000"
   ]
  },
  {
   "cell_type": "code",
   "execution_count": 11,
   "metadata": {},
   "outputs": [
    {
     "name": "stderr",
     "output_type": "stream",
     "text": [
      "  2%|▏         | 24/1000 [00:00<00:08, 120.12it/s]"
     ]
    },
    {
     "name": "stdout",
     "output_type": "stream",
     "text": [
      "PDE Loss: 110.86848449707031 , Boundary Loss: 0.6015893816947937\n"
     ]
    },
    {
     "name": "stderr",
     "output_type": "stream",
     "text": [
      " 12%|█▏        | 117/1000 [00:00<00:06, 128.54it/s]"
     ]
    },
    {
     "name": "stdout",
     "output_type": "stream",
     "text": [
      "PDE Loss: 116.98587036132812 , Boundary Loss: 5.751428127288818\n"
     ]
    },
    {
     "name": "stderr",
     "output_type": "stream",
     "text": [
      " 21%|██        | 210/1000 [00:01<00:06, 116.74it/s]"
     ]
    },
    {
     "name": "stdout",
     "output_type": "stream",
     "text": [
      "PDE Loss: 225.78695678710938 , Boundary Loss: 1.4206806421279907\n"
     ]
    },
    {
     "name": "stderr",
     "output_type": "stream",
     "text": [
      " 31%|███▏      | 314/1000 [00:02<00:05, 124.90it/s]"
     ]
    },
    {
     "name": "stdout",
     "output_type": "stream",
     "text": [
      "PDE Loss: 34.84730911254883 , Boundary Loss: 13.980243682861328\n"
     ]
    },
    {
     "name": "stderr",
     "output_type": "stream",
     "text": [
      " 42%|████▏     | 418/1000 [00:03<00:04, 121.51it/s]"
     ]
    },
    {
     "name": "stdout",
     "output_type": "stream",
     "text": [
      "PDE Loss: 197.66119384765625 , Boundary Loss: 17.037845611572266\n"
     ]
    },
    {
     "name": "stderr",
     "output_type": "stream",
     "text": [
      " 53%|█████▎    | 526/1000 [00:04<00:03, 127.83it/s]"
     ]
    },
    {
     "name": "stdout",
     "output_type": "stream",
     "text": [
      "PDE Loss: 238.91207885742188 , Boundary Loss: 410.1302185058594\n"
     ]
    },
    {
     "name": "stderr",
     "output_type": "stream",
     "text": [
      " 62%|██████▏   | 617/1000 [00:05<00:03, 120.79it/s]"
     ]
    },
    {
     "name": "stdout",
     "output_type": "stream",
     "text": [
      "PDE Loss: 16.109756469726562 , Boundary Loss: 7.968112945556641\n"
     ]
    },
    {
     "name": "stderr",
     "output_type": "stream",
     "text": [
      " 72%|███████▏  | 720/1000 [00:05<00:02, 123.84it/s]"
     ]
    },
    {
     "name": "stdout",
     "output_type": "stream",
     "text": [
      "PDE Loss: 259.486572265625 , Boundary Loss: 4.986677646636963\n"
     ]
    },
    {
     "name": "stderr",
     "output_type": "stream",
     "text": [
      " 82%|████████▏ | 823/1000 [00:06<00:01, 124.09it/s]"
     ]
    },
    {
     "name": "stdout",
     "output_type": "stream",
     "text": [
      "PDE Loss: 900.0157470703125 , Boundary Loss: 27.039113998413086\n"
     ]
    },
    {
     "name": "stderr",
     "output_type": "stream",
     "text": [
      " 92%|█████████▏| 915/1000 [00:07<00:00, 125.13it/s]"
     ]
    },
    {
     "name": "stdout",
     "output_type": "stream",
     "text": [
      "PDE Loss: 12.721022605895996 , Boundary Loss: 0.7085955739021301\n"
     ]
    },
    {
     "name": "stderr",
     "output_type": "stream",
     "text": [
      "100%|██████████| 1000/1000 [00:08<00:00, 121.63it/s]"
     ]
    },
    {
     "name": "stdout",
     "output_type": "stream",
     "text": [
      "PDE Loss: 56.14611053466797 , Boundary Loss: 0.12158185243606567\n"
     ]
    },
    {
     "name": "stderr",
     "output_type": "stream",
     "text": [
      "\n"
     ]
    }
   ],
   "source": [
    "for epoch in tqdm(range(epochs)):\n",
    "\n",
    "  #Data\n",
    "  size = 128\n",
    "  x_sample, y_sample = cloud(size)\n",
    "  x_t = torch.tensor(x_sample, dtype=torch.float, requires_grad=True)\n",
    "  y_t = torch.tensor(y_sample, dtype=torch.float, requires_grad=True)\n",
    "  data = torch.stack([torch.cat([x_t, x_t, x_t], dim=0), torch.cat([y_t, torch.ones_like(y_t), torch.zeros_like(y_t)])], dim=1)\n",
    "\n",
    "  \n",
    "  #PDE Predictions\n",
    "  preds = model(data)\n",
    "  u_preds = preds[:size, 0]#Velocity\n",
    "  p_preds = preds[:size, 1]#Pressure\n",
    "\n",
    "  \n",
    "  #Differentials\n",
    "  du_dx = torch.autograd.grad(u_preds, x_t, torch.ones_like(u_preds), create_graph=True, retain_graph=True)[0]\n",
    "  du_dy = torch.autograd.grad(u_preds, y_t, torch.ones_like(u_preds), create_graph=True, retain_graph=True)[0]\n",
    "  d2u_dy2 = torch.autograd.grad(du_dy, y_t, torch.ones_like(u_preds), create_graph=True, retain_graph=True)[0]\n",
    "\n",
    "  dp_dx = torch.autograd.grad(p_preds, x_t, torch.ones_like(p_preds), create_graph=True, retain_graph=True)[0]\n",
    "  dp_dy = torch.autograd.grad(p_preds, y_t, torch.ones_like(p_preds), create_graph=True, retain_graph=True)[0]\n",
    "\n",
    "  #Losses\n",
    "  mu = 1\n",
    "\n",
    "  #PDE_Loss\n",
    "  loss = torch.sum(du_dx**2)\n",
    "  loss = loss + torch.sum(dp_dy**2)\n",
    "  loss = loss + torch.sum((dp_dx-100)**2)\n",
    "  loss = loss + torch.sum((dp_dx-mu*(d2u_dy2))**2)\n",
    "  loss_p = loss\n",
    "\n",
    "  #Boundary Loss\n",
    "  v = -5\n",
    "  loss = torch.sum((preds[size:size*2,0]-v)**2)\n",
    "  loss = loss+torch.sum((preds[size*2:size*3,0])**2)\n",
    "  loss_b = loss\n",
    "\n",
    "  alpha_b = 0.01\n",
    "\n",
    "  #Total loss\n",
    "  loss = loss_p + alpha_b*loss_b \n",
    "\n",
    "  if(epoch%100==0 or epoch==999):\n",
    "    print(\"PDE Loss:\", loss_p.item(), \", Boundary Loss:\", loss_b.item())\n",
    "\n",
    "  optimizer.zero_grad()\n",
    "  loss.backward()\n",
    "  optimizer.step()"
   ]
  },
  {
   "cell_type": "code",
   "execution_count": 13,
   "metadata": {},
   "outputs": [
    {
     "data": {
      "image/png": "[encoded data removed]",
      "text/plain": [
       "<Figure size 640x480 with 1 Axes>"
      ]
     },
     "metadata": {},
     "output_type": "display_data"
    }
   ],
   "source": [
    "#Plotting Results\n",
    "\n",
    "y = np.linspace(domain_Y[0], domain_Y[1], 100)\n",
    "x = np.zeros_like(y)\n",
    "\n",
    "x_t = torch.tensor(x, dtype=torch.float)\n",
    "y_t = torch.tensor(y, dtype=torch.float)\n",
    "\n",
    "with torch.no_grad():\n",
    "  preds = model(torch.stack([x_t, y_t], dim=1))\n",
    "\n",
    "u_preds = preds[:, 0].numpy()\n",
    "p_preds = preds[:, 1].numpy()\n",
    "\n",
    "plt.plot(y, -u_preds,)\n",
    "plt.xlabel('Bottom to Top Plate')\n",
    "plt.ylabel('Velocity')\n",
    "plt.show()\n",
    "\n",
    "# plt.plot(y, p_preds)\n",
    "# plt.xlabel('Y')\n",
    "# plt.ylabel('Pressure')\n",
    "# plt.show()"
   ]
  }
 ],
 "metadata": {
  "kernelspec": {
   "display_name": "venv",
   "language": "python",
   "name": "python3"
  },
  "language_info": {
   "codemirror_mode": {
    "name": "ipython",
    "version": 3
   },
   "file_extension": ".py",
   "mimetype": "text/x-python",
   "name": "python",
   "nbconvert_exporter": "python",
   "pygments_lexer": "ipython3",
   "version": "3.10.12"
  }
 },
 "nbformat": 4,
 "nbformat_minor": 2
}
